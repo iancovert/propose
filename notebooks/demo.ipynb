{
 "cells": [
  {
   "cell_type": "markdown",
   "id": "1bf658eb-8bdf-465d-ab25-29dd59f235e5",
   "metadata": {},
   "source": [
    "# Load data"
   ]
  },
  {
   "cell_type": "code",
   "execution_count": 1,
   "id": "35d86e2c-7ded-48a9-9c1a-35708b1bfc49",
   "metadata": {},
   "outputs": [],
   "source": [
    "import numpy as np\n",
    "import pandas as pd"
   ]
  },
  {
   "cell_type": "code",
   "execution_count": 2,
   "id": "0211937f-81df-4b5f-8719-f439731de063",
   "metadata": {},
   "outputs": [],
   "source": [
    "# Load dataframes\n",
    "df_raw = pd.read_csv('../data/v1_raw.csv', header=0, index_col=0, delimiter=',')\n",
    "df_cpm = pd.read_csv('../data/v1_cpm.csv', header=0, index_col=0, delimiter=',')"
   ]
  },
  {
   "cell_type": "code",
   "execution_count": 3,
   "id": "0133a1cc-bdc0-4845-9e07-bbd78b89c0e7",
   "metadata": {},
   "outputs": [
    {
     "data": {
      "text/html": [
       "<div>\n",
       "<style scoped>\n",
       "    .dataframe tbody tr th:only-of-type {\n",
       "        vertical-align: middle;\n",
       "    }\n",
       "\n",
       "    .dataframe tbody tr th {\n",
       "        vertical-align: top;\n",
       "    }\n",
       "\n",
       "    .dataframe thead th {\n",
       "        text-align: right;\n",
       "    }\n",
       "</style>\n",
       "<table border=\"1\" class=\"dataframe\">\n",
       "  <thead>\n",
       "    <tr style=\"text-align: right;\">\n",
       "      <th></th>\n",
       "      <th>0610007P14Rik</th>\n",
       "      <th>0610009B22Rik</th>\n",
       "      <th>0610010F05Rik</th>\n",
       "      <th>0610010K14Rik</th>\n",
       "      <th>0610011F06Rik</th>\n",
       "      <th>0610012G03Rik</th>\n",
       "      <th>0610030E20Rik</th>\n",
       "      <th>0610037L13Rik</th>\n",
       "      <th>1110001J03Rik</th>\n",
       "      <th>1110004E09Rik</th>\n",
       "      <th>...</th>\n",
       "      <th>Zxdb</th>\n",
       "      <th>Zxdc</th>\n",
       "      <th>Zyg11b</th>\n",
       "      <th>Zyx</th>\n",
       "      <th>Zzef1</th>\n",
       "      <th>Zzz3</th>\n",
       "      <th>l7Rn6</th>\n",
       "      <th>cell_types_98</th>\n",
       "      <th>cell_types_50</th>\n",
       "      <th>cell_types_25</th>\n",
       "    </tr>\n",
       "  </thead>\n",
       "  <tbody>\n",
       "    <tr>\n",
       "      <th>LS-15006_S09_E1-50</th>\n",
       "      <td>79.0</td>\n",
       "      <td>140.0</td>\n",
       "      <td>0.0</td>\n",
       "      <td>30.0</td>\n",
       "      <td>114.0</td>\n",
       "      <td>575.0</td>\n",
       "      <td>7.0</td>\n",
       "      <td>108.0</td>\n",
       "      <td>206.0</td>\n",
       "      <td>0.0</td>\n",
       "      <td>...</td>\n",
       "      <td>0.0</td>\n",
       "      <td>0.0</td>\n",
       "      <td>78.0</td>\n",
       "      <td>0.0</td>\n",
       "      <td>36.0</td>\n",
       "      <td>0.0</td>\n",
       "      <td>190.0</td>\n",
       "      <td>Vip Arhgap36 Hmcn1</td>\n",
       "      <td>n70</td>\n",
       "      <td>n66</td>\n",
       "    </tr>\n",
       "    <tr>\n",
       "      <th>LS-15006_S10_E1-50</th>\n",
       "      <td>121.0</td>\n",
       "      <td>175.0</td>\n",
       "      <td>181.0</td>\n",
       "      <td>196.0</td>\n",
       "      <td>30.0</td>\n",
       "      <td>318.0</td>\n",
       "      <td>3.0</td>\n",
       "      <td>202.0</td>\n",
       "      <td>48.0</td>\n",
       "      <td>75.0</td>\n",
       "      <td>...</td>\n",
       "      <td>0.0</td>\n",
       "      <td>0.0</td>\n",
       "      <td>28.0</td>\n",
       "      <td>0.0</td>\n",
       "      <td>1.0</td>\n",
       "      <td>29.0</td>\n",
       "      <td>178.0</td>\n",
       "      <td>Lamp5 Lsp1</td>\n",
       "      <td>Lamp5 Lsp1</td>\n",
       "      <td>n78</td>\n",
       "    </tr>\n",
       "    <tr>\n",
       "      <th>LS-15006_S11_E1-50</th>\n",
       "      <td>89.0</td>\n",
       "      <td>68.0</td>\n",
       "      <td>100.0</td>\n",
       "      <td>75.0</td>\n",
       "      <td>14.0</td>\n",
       "      <td>170.0</td>\n",
       "      <td>0.0</td>\n",
       "      <td>101.0</td>\n",
       "      <td>88.0</td>\n",
       "      <td>35.0</td>\n",
       "      <td>...</td>\n",
       "      <td>0.0</td>\n",
       "      <td>0.0</td>\n",
       "      <td>153.0</td>\n",
       "      <td>36.0</td>\n",
       "      <td>104.0</td>\n",
       "      <td>21.0</td>\n",
       "      <td>153.0</td>\n",
       "      <td>Lamp5 Lsp1</td>\n",
       "      <td>Lamp5 Lsp1</td>\n",
       "      <td>n78</td>\n",
       "    </tr>\n",
       "    <tr>\n",
       "      <th>LS-15006_S12_E1-50</th>\n",
       "      <td>115.0</td>\n",
       "      <td>0.0</td>\n",
       "      <td>35.0</td>\n",
       "      <td>17.0</td>\n",
       "      <td>0.0</td>\n",
       "      <td>193.0</td>\n",
       "      <td>90.0</td>\n",
       "      <td>189.0</td>\n",
       "      <td>117.0</td>\n",
       "      <td>44.0</td>\n",
       "      <td>...</td>\n",
       "      <td>0.0</td>\n",
       "      <td>0.0</td>\n",
       "      <td>31.0</td>\n",
       "      <td>162.0</td>\n",
       "      <td>0.0</td>\n",
       "      <td>30.0</td>\n",
       "      <td>110.0</td>\n",
       "      <td>Vip Crispld2 Htr2c</td>\n",
       "      <td>n65</td>\n",
       "      <td>n64</td>\n",
       "    </tr>\n",
       "    <tr>\n",
       "      <th>LS-15006_S13_E1-50</th>\n",
       "      <td>390.0</td>\n",
       "      <td>177.0</td>\n",
       "      <td>0.0</td>\n",
       "      <td>42.0</td>\n",
       "      <td>0.0</td>\n",
       "      <td>23.0</td>\n",
       "      <td>71.0</td>\n",
       "      <td>52.0</td>\n",
       "      <td>162.0</td>\n",
       "      <td>129.0</td>\n",
       "      <td>...</td>\n",
       "      <td>20.0</td>\n",
       "      <td>0.0</td>\n",
       "      <td>85.0</td>\n",
       "      <td>44.0</td>\n",
       "      <td>0.0</td>\n",
       "      <td>9.0</td>\n",
       "      <td>335.0</td>\n",
       "      <td>Lamp5 Plch2 Dock5</td>\n",
       "      <td>n82</td>\n",
       "      <td>n79</td>\n",
       "    </tr>\n",
       "  </tbody>\n",
       "</table>\n",
       "<p>5 rows × 10003 columns</p>\n",
       "</div>"
      ],
      "text/plain": [
       "                    0610007P14Rik  0610009B22Rik  0610010F05Rik  \\\n",
       "LS-15006_S09_E1-50           79.0          140.0            0.0   \n",
       "LS-15006_S10_E1-50          121.0          175.0          181.0   \n",
       "LS-15006_S11_E1-50           89.0           68.0          100.0   \n",
       "LS-15006_S12_E1-50          115.0            0.0           35.0   \n",
       "LS-15006_S13_E1-50          390.0          177.0            0.0   \n",
       "\n",
       "                    0610010K14Rik  0610011F06Rik  0610012G03Rik  \\\n",
       "LS-15006_S09_E1-50           30.0          114.0          575.0   \n",
       "LS-15006_S10_E1-50          196.0           30.0          318.0   \n",
       "LS-15006_S11_E1-50           75.0           14.0          170.0   \n",
       "LS-15006_S12_E1-50           17.0            0.0          193.0   \n",
       "LS-15006_S13_E1-50           42.0            0.0           23.0   \n",
       "\n",
       "                    0610030E20Rik  0610037L13Rik  1110001J03Rik  \\\n",
       "LS-15006_S09_E1-50            7.0          108.0          206.0   \n",
       "LS-15006_S10_E1-50            3.0          202.0           48.0   \n",
       "LS-15006_S11_E1-50            0.0          101.0           88.0   \n",
       "LS-15006_S12_E1-50           90.0          189.0          117.0   \n",
       "LS-15006_S13_E1-50           71.0           52.0          162.0   \n",
       "\n",
       "                    1110004E09Rik  ...  Zxdb  Zxdc  Zyg11b    Zyx  Zzef1  \\\n",
       "LS-15006_S09_E1-50            0.0  ...   0.0   0.0    78.0    0.0   36.0   \n",
       "LS-15006_S10_E1-50           75.0  ...   0.0   0.0    28.0    0.0    1.0   \n",
       "LS-15006_S11_E1-50           35.0  ...   0.0   0.0   153.0   36.0  104.0   \n",
       "LS-15006_S12_E1-50           44.0  ...   0.0   0.0    31.0  162.0    0.0   \n",
       "LS-15006_S13_E1-50          129.0  ...  20.0   0.0    85.0   44.0    0.0   \n",
       "\n",
       "                    Zzz3  l7Rn6       cell_types_98  cell_types_50  \\\n",
       "LS-15006_S09_E1-50   0.0  190.0  Vip Arhgap36 Hmcn1            n70   \n",
       "LS-15006_S10_E1-50  29.0  178.0          Lamp5 Lsp1     Lamp5 Lsp1   \n",
       "LS-15006_S11_E1-50  21.0  153.0          Lamp5 Lsp1     Lamp5 Lsp1   \n",
       "LS-15006_S12_E1-50  30.0  110.0  Vip Crispld2 Htr2c            n65   \n",
       "LS-15006_S13_E1-50   9.0  335.0   Lamp5 Plch2 Dock5            n82   \n",
       "\n",
       "                    cell_types_25  \n",
       "LS-15006_S09_E1-50            n66  \n",
       "LS-15006_S10_E1-50            n78  \n",
       "LS-15006_S11_E1-50            n78  \n",
       "LS-15006_S12_E1-50            n64  \n",
       "LS-15006_S13_E1-50            n79  \n",
       "\n",
       "[5 rows x 10003 columns]"
      ]
     },
     "execution_count": 3,
     "metadata": {},
     "output_type": "execute_result"
    }
   ],
   "source": [
    "# Preview raw\n",
    "df_raw.head()"
   ]
  },
  {
   "cell_type": "code",
   "execution_count": 4,
   "id": "642c911e-da5c-4702-bf4c-7c17f5e58fee",
   "metadata": {},
   "outputs": [
    {
     "data": {
      "text/html": [
       "<div>\n",
       "<style scoped>\n",
       "    .dataframe tbody tr th:only-of-type {\n",
       "        vertical-align: middle;\n",
       "    }\n",
       "\n",
       "    .dataframe tbody tr th {\n",
       "        vertical-align: top;\n",
       "    }\n",
       "\n",
       "    .dataframe thead th {\n",
       "        text-align: right;\n",
       "    }\n",
       "</style>\n",
       "<table border=\"1\" class=\"dataframe\">\n",
       "  <thead>\n",
       "    <tr style=\"text-align: right;\">\n",
       "      <th></th>\n",
       "      <th>0610007P14Rik</th>\n",
       "      <th>0610009B22Rik</th>\n",
       "      <th>0610010F05Rik</th>\n",
       "      <th>0610010K14Rik</th>\n",
       "      <th>0610011F06Rik</th>\n",
       "      <th>0610012G03Rik</th>\n",
       "      <th>0610030E20Rik</th>\n",
       "      <th>0610037L13Rik</th>\n",
       "      <th>1110001J03Rik</th>\n",
       "      <th>1110004E09Rik</th>\n",
       "      <th>...</th>\n",
       "      <th>Zxdb</th>\n",
       "      <th>Zxdc</th>\n",
       "      <th>Zyg11b</th>\n",
       "      <th>Zyx</th>\n",
       "      <th>Zzef1</th>\n",
       "      <th>Zzz3</th>\n",
       "      <th>l7Rn6</th>\n",
       "      <th>cell_types_98</th>\n",
       "      <th>cell_types_50</th>\n",
       "      <th>cell_types_25</th>\n",
       "    </tr>\n",
       "  </thead>\n",
       "  <tbody>\n",
       "    <tr>\n",
       "      <th>LS-15006_S09_E1-50</th>\n",
       "      <td>45.645770</td>\n",
       "      <td>80.891235</td>\n",
       "      <td>0.000000</td>\n",
       "      <td>17.333836</td>\n",
       "      <td>65.868576</td>\n",
       "      <td>332.231870</td>\n",
       "      <td>4.044562</td>\n",
       "      <td>62.401810</td>\n",
       "      <td>119.025670</td>\n",
       "      <td>0.000000</td>\n",
       "      <td>...</td>\n",
       "      <td>0.00000</td>\n",
       "      <td>0.0</td>\n",
       "      <td>45.067974</td>\n",
       "      <td>0.000000</td>\n",
       "      <td>20.800604</td>\n",
       "      <td>0.000000</td>\n",
       "      <td>109.780960</td>\n",
       "      <td>Vip Arhgap36 Hmcn1</td>\n",
       "      <td>n70</td>\n",
       "      <td>n66</td>\n",
       "    </tr>\n",
       "    <tr>\n",
       "      <th>LS-15006_S10_E1-50</th>\n",
       "      <td>63.363390</td>\n",
       "      <td>91.641266</td>\n",
       "      <td>94.783260</td>\n",
       "      <td>102.638220</td>\n",
       "      <td>15.709931</td>\n",
       "      <td>166.525280</td>\n",
       "      <td>1.570993</td>\n",
       "      <td>105.780205</td>\n",
       "      <td>25.135891</td>\n",
       "      <td>39.274830</td>\n",
       "      <td>...</td>\n",
       "      <td>0.00000</td>\n",
       "      <td>0.0</td>\n",
       "      <td>14.662603</td>\n",
       "      <td>0.000000</td>\n",
       "      <td>0.523664</td>\n",
       "      <td>15.186268</td>\n",
       "      <td>93.212265</td>\n",
       "      <td>Lamp5 Lsp1</td>\n",
       "      <td>Lamp5 Lsp1</td>\n",
       "      <td>n78</td>\n",
       "    </tr>\n",
       "    <tr>\n",
       "      <th>LS-15006_S11_E1-50</th>\n",
       "      <td>44.837242</td>\n",
       "      <td>34.257668</td>\n",
       "      <td>50.378925</td>\n",
       "      <td>37.784195</td>\n",
       "      <td>7.053050</td>\n",
       "      <td>85.644170</td>\n",
       "      <td>0.000000</td>\n",
       "      <td>50.882713</td>\n",
       "      <td>44.333454</td>\n",
       "      <td>17.632624</td>\n",
       "      <td>...</td>\n",
       "      <td>0.00000</td>\n",
       "      <td>0.0</td>\n",
       "      <td>77.079760</td>\n",
       "      <td>18.136414</td>\n",
       "      <td>52.394080</td>\n",
       "      <td>10.579575</td>\n",
       "      <td>77.079760</td>\n",
       "      <td>Lamp5 Lsp1</td>\n",
       "      <td>Lamp5 Lsp1</td>\n",
       "      <td>n78</td>\n",
       "    </tr>\n",
       "    <tr>\n",
       "      <th>LS-15006_S12_E1-50</th>\n",
       "      <td>50.184307</td>\n",
       "      <td>0.000000</td>\n",
       "      <td>15.273485</td>\n",
       "      <td>7.418550</td>\n",
       "      <td>0.000000</td>\n",
       "      <td>84.222360</td>\n",
       "      <td>39.274673</td>\n",
       "      <td>82.476820</td>\n",
       "      <td>51.057080</td>\n",
       "      <td>19.200953</td>\n",
       "      <td>...</td>\n",
       "      <td>0.00000</td>\n",
       "      <td>0.0</td>\n",
       "      <td>13.527944</td>\n",
       "      <td>70.694410</td>\n",
       "      <td>0.000000</td>\n",
       "      <td>13.091558</td>\n",
       "      <td>48.002380</td>\n",
       "      <td>Vip Crispld2 Htr2c</td>\n",
       "      <td>n65</td>\n",
       "      <td>n64</td>\n",
       "    </tr>\n",
       "    <tr>\n",
       "      <th>LS-15006_S13_E1-50</th>\n",
       "      <td>221.910780</td>\n",
       "      <td>100.713356</td>\n",
       "      <td>0.000000</td>\n",
       "      <td>23.898085</td>\n",
       "      <td>0.000000</td>\n",
       "      <td>13.087047</td>\n",
       "      <td>40.399143</td>\n",
       "      <td>29.588104</td>\n",
       "      <td>92.178330</td>\n",
       "      <td>73.401260</td>\n",
       "      <td>...</td>\n",
       "      <td>11.38004</td>\n",
       "      <td>0.0</td>\n",
       "      <td>48.365173</td>\n",
       "      <td>25.036089</td>\n",
       "      <td>0.000000</td>\n",
       "      <td>5.121018</td>\n",
       "      <td>190.615680</td>\n",
       "      <td>Lamp5 Plch2 Dock5</td>\n",
       "      <td>n82</td>\n",
       "      <td>n79</td>\n",
       "    </tr>\n",
       "  </tbody>\n",
       "</table>\n",
       "<p>5 rows × 10003 columns</p>\n",
       "</div>"
      ],
      "text/plain": [
       "                    0610007P14Rik  0610009B22Rik  0610010F05Rik  \\\n",
       "LS-15006_S09_E1-50      45.645770      80.891235       0.000000   \n",
       "LS-15006_S10_E1-50      63.363390      91.641266      94.783260   \n",
       "LS-15006_S11_E1-50      44.837242      34.257668      50.378925   \n",
       "LS-15006_S12_E1-50      50.184307       0.000000      15.273485   \n",
       "LS-15006_S13_E1-50     221.910780     100.713356       0.000000   \n",
       "\n",
       "                    0610010K14Rik  0610011F06Rik  0610012G03Rik  \\\n",
       "LS-15006_S09_E1-50      17.333836      65.868576     332.231870   \n",
       "LS-15006_S10_E1-50     102.638220      15.709931     166.525280   \n",
       "LS-15006_S11_E1-50      37.784195       7.053050      85.644170   \n",
       "LS-15006_S12_E1-50       7.418550       0.000000      84.222360   \n",
       "LS-15006_S13_E1-50      23.898085       0.000000      13.087047   \n",
       "\n",
       "                    0610030E20Rik  0610037L13Rik  1110001J03Rik  \\\n",
       "LS-15006_S09_E1-50       4.044562      62.401810     119.025670   \n",
       "LS-15006_S10_E1-50       1.570993     105.780205      25.135891   \n",
       "LS-15006_S11_E1-50       0.000000      50.882713      44.333454   \n",
       "LS-15006_S12_E1-50      39.274673      82.476820      51.057080   \n",
       "LS-15006_S13_E1-50      40.399143      29.588104      92.178330   \n",
       "\n",
       "                    1110004E09Rik  ...      Zxdb  Zxdc     Zyg11b        Zyx  \\\n",
       "LS-15006_S09_E1-50       0.000000  ...   0.00000   0.0  45.067974   0.000000   \n",
       "LS-15006_S10_E1-50      39.274830  ...   0.00000   0.0  14.662603   0.000000   \n",
       "LS-15006_S11_E1-50      17.632624  ...   0.00000   0.0  77.079760  18.136414   \n",
       "LS-15006_S12_E1-50      19.200953  ...   0.00000   0.0  13.527944  70.694410   \n",
       "LS-15006_S13_E1-50      73.401260  ...  11.38004   0.0  48.365173  25.036089   \n",
       "\n",
       "                        Zzef1       Zzz3       l7Rn6       cell_types_98  \\\n",
       "LS-15006_S09_E1-50  20.800604   0.000000  109.780960  Vip Arhgap36 Hmcn1   \n",
       "LS-15006_S10_E1-50   0.523664  15.186268   93.212265          Lamp5 Lsp1   \n",
       "LS-15006_S11_E1-50  52.394080  10.579575   77.079760          Lamp5 Lsp1   \n",
       "LS-15006_S12_E1-50   0.000000  13.091558   48.002380  Vip Crispld2 Htr2c   \n",
       "LS-15006_S13_E1-50   0.000000   5.121018  190.615680   Lamp5 Plch2 Dock5   \n",
       "\n",
       "                    cell_types_50  cell_types_25  \n",
       "LS-15006_S09_E1-50            n70            n66  \n",
       "LS-15006_S10_E1-50     Lamp5 Lsp1            n78  \n",
       "LS-15006_S11_E1-50     Lamp5 Lsp1            n78  \n",
       "LS-15006_S12_E1-50            n65            n64  \n",
       "LS-15006_S13_E1-50            n82            n79  \n",
       "\n",
       "[5 rows x 10003 columns]"
      ]
     },
     "execution_count": 4,
     "metadata": {},
     "output_type": "execute_result"
    }
   ],
   "source": [
    "# Preview CPM\n",
    "df_cpm.head()"
   ]
  },
  {
   "cell_type": "code",
   "execution_count": 5,
   "id": "2a02758d-6a6a-404b-93c3-1396db953885",
   "metadata": {},
   "outputs": [],
   "source": [
    "# Extract cell types\n",
    "cell_types_98 = df_raw['cell_types_98']\n",
    "cell_types_50 = df_raw['cell_types_50']\n",
    "cell_types_25 = df_raw['cell_types_25']\n",
    "\n",
    "# Convert to numerical\n",
    "cell_types_98_num = pd.Categorical(cell_types_98).codes\n",
    "cell_types_50_num = pd.Categorical(cell_types_50).codes\n",
    "cell_types_25_num = pd.Categorical(cell_types_25).codes"
   ]
  },
  {
   "cell_type": "code",
   "execution_count": 6,
   "id": "011f32bf-0e86-4829-b44f-3d7f463d27bb",
   "metadata": {},
   "outputs": [],
   "source": [
    "# Arrange raw and CPM data\n",
    "raw = df_raw.values[:, :-3].astype(np.float32)\n",
    "cpm = df_cpm.values[:, :-3].astype(np.float32)\n",
    "gene_names = np.array(df_raw.columns)[:-3]\n",
    "\n",
    "# Generate logarithmized and binarized data\n",
    "binary = (raw > 0).astype(np.float32)\n",
    "log = np.log(1 + raw)\n",
    "logcpm = np.log(1 + cpm)"
   ]
  },
  {
   "cell_type": "code",
   "execution_count": 7,
   "id": "3d90a8a0-ca83-49c7-9724-500eaad64a14",
   "metadata": {},
   "outputs": [
    {
     "name": "stdout",
     "output_type": "stream",
     "text": [
      "13349 total examples, 10679 training examples, 1336 validation examples, 1334 test examples\n"
     ]
    }
   ],
   "source": [
    "# For data splitting\n",
    "n = len(raw)\n",
    "n_train = int(0.8 * n)\n",
    "n_test = int(0.1 * n)\n",
    "all_rows = np.arange(n)\n",
    "np.random.seed(0)\n",
    "np.random.shuffle(all_rows)\n",
    "train_inds = all_rows[:n_train]\n",
    "val_inds = all_rows[n_train:-n_test]\n",
    "test_inds = all_rows[-n_test:]\n",
    "print(f'{n} total examples, {len(train_inds)} training examples, {len(val_inds)} validation examples, {len(test_inds)} test examples')"
   ]
  },
  {
   "cell_type": "markdown",
   "id": "f57f9665-29d6-476a-90d6-ace2b5711235",
   "metadata": {},
   "source": [
    "# Run PROPOSE"
   ]
  },
  {
   "cell_type": "code",
   "execution_count": 8,
   "id": "3d766536-f9f6-4e82-aedc-2ee06aeaf3b5",
   "metadata": {},
   "outputs": [],
   "source": [
    "import torch\n",
    "import pickle\n",
    "import numpy as np\n",
    "import torch.nn as nn\n",
    "from propose import PROPOSE, HurdleLoss, ExpressionDataset"
   ]
  },
  {
   "cell_type": "code",
   "execution_count": 9,
   "id": "f723348a-705a-4c06-81e4-cf79909bec39",
   "metadata": {},
   "outputs": [],
   "source": [
    "# Set up datasets\n",
    "train_dataset = ExpressionDataset(binary[train_inds], logcpm[train_inds])\n",
    "val_dataset = ExpressionDataset(binary[val_inds], logcpm[val_inds])"
   ]
  },
  {
   "cell_type": "code",
   "execution_count": 10,
   "id": "e0e2a58f-b95a-46d2-a058-67023174c1d2",
   "metadata": {},
   "outputs": [],
   "source": [
    "# Set up GPU device\n",
    "device = torch.device('cuda', 5)"
   ]
  },
  {
   "cell_type": "code",
   "execution_count": 11,
   "id": "46e3bbc5-fcbd-43f6-b836-42f57dc4e69d",
   "metadata": {},
   "outputs": [],
   "source": [
    "# Number of genes to select\n",
    "num_genes = (32, 64, 128)\n",
    "propose_results = {}"
   ]
  },
  {
   "cell_type": "code",
   "execution_count": 12,
   "id": "3b9c327b-130d-41dc-a263-34a3bff80df5",
   "metadata": {},
   "outputs": [
    {
     "name": "stdout",
     "output_type": "stream",
     "text": [
      "using HurdleLoss, starting with lam = 0.01\n"
     ]
    },
    {
     "data": {
      "application/vnd.jupyter.widget-view+json": {
       "model_id": "324c465c2ae249bc8b0515f252ad2339",
       "version_major": 2,
       "version_minor": 0
      },
      "text/plain": [
       "Training epochs:   0%|          | 0/500 [00:00<?, ?it/s]"
      ]
     },
     "metadata": {},
     "output_type": "display_data"
    },
    {
     "name": "stdout",
     "output_type": "stream",
     "text": [
      "lam = 0.010000 yielded 10000 genes\n",
      "Warm starting model for next iteration\n",
      "next attempt is lam = 0.100000\n"
     ]
    },
    {
     "data": {
      "application/vnd.jupyter.widget-view+json": {
       "model_id": "af1055fdb86a44479588546902e12dd6",
       "version_major": 2,
       "version_minor": 0
      },
      "text/plain": [
       "Training epochs:   0%|          | 0/500 [00:00<?, ?it/s]"
      ]
     },
     "metadata": {},
     "output_type": "display_data"
    },
    {
     "name": "stdout",
     "output_type": "stream",
     "text": [
      "lam = 0.100000 yielded 6914 genes\n",
      "Warm starting model for next iteration\n",
      "next attempt is lam = 1.000000\n"
     ]
    },
    {
     "data": {
      "application/vnd.jupyter.widget-view+json": {
       "model_id": "a7e2db422c7a4db1920a63ea87c5e11c",
       "version_major": 2,
       "version_minor": 0
      },
      "text/plain": [
       "Training epochs:   0%|          | 0/500 [00:00<?, ?it/s]"
      ]
     },
     "metadata": {},
     "output_type": "display_data"
    },
    {
     "name": "stdout",
     "output_type": "stream",
     "text": [
      "lam = 1.000000 yielded 495 genes\n",
      "done, lam = 1.000000 yielded 495 genes\n"
     ]
    },
    {
     "data": {
      "application/vnd.jupyter.widget-view+json": {
       "model_id": "1f464c398dbd4c85be3b08870e124b27",
       "version_major": 2,
       "version_minor": 0
      },
      "text/plain": [
       "Training epochs:   0%|          | 0/500 [00:00<?, ?it/s]"
      ]
     },
     "metadata": {},
     "output_type": "display_data"
    },
    {
     "name": "stdout",
     "output_type": "stream",
     "text": [
      "done, selected 32 genes\n"
     ]
    },
    {
     "data": {
      "application/vnd.jupyter.widget-view+json": {
       "model_id": "1354809243e54068857eb33be08a0632",
       "version_major": 2,
       "version_minor": 0
      },
      "text/plain": [
       "Training epochs:   0%|          | 0/500 [00:00<?, ?it/s]"
      ]
     },
     "metadata": {},
     "output_type": "display_data"
    },
    {
     "name": "stdout",
     "output_type": "stream",
     "text": [
      "done, selected 64 genes\n"
     ]
    },
    {
     "data": {
      "application/vnd.jupyter.widget-view+json": {
       "model_id": "f1f97be981664ac794b131a9844a1ee3",
       "version_major": 2,
       "version_minor": 0
      },
      "text/plain": [
       "Training epochs:   0%|          | 0/500 [00:00<?, ?it/s]"
      ]
     },
     "metadata": {},
     "output_type": "display_data"
    },
    {
     "name": "stdout",
     "output_type": "stream",
     "text": [
      "done, selected 128 genes\n"
     ]
    }
   ],
   "source": [
    "# Set up selector\n",
    "selector = PROPOSE(train_dataset,\n",
    "                   val_dataset,\n",
    "                   loss_fn=HurdleLoss(),\n",
    "                   device=device,\n",
    "                   hidden=[128, 128])\n",
    "\n",
    "# Eliminate many candidates\n",
    "candidates, model = selector.eliminate(target=500, mbsize=128, max_nepochs=500)\n",
    "\n",
    "for num in num_genes:\n",
    "    # Select specific number of genes\n",
    "    inds, model = selector.select(num_genes=num, mbsize=128, max_nepochs=500)\n",
    "    propose_results[num] = inds"
   ]
  },
  {
   "cell_type": "code",
   "execution_count": 13,
   "id": "0236795f-9512-444f-afd8-8c5a52f0a527",
   "metadata": {},
   "outputs": [],
   "source": [
    "# Save results\n",
    "with open('propose_results.pkl', 'wb') as f:\n",
    "    pickle.dump(propose_results, f)"
   ]
  },
  {
   "cell_type": "markdown",
   "id": "69ac9e9e-5305-4f9f-99bc-bfcbaafc19a1",
   "metadata": {},
   "source": [
    "# Run PROPOSE for cell type classification"
   ]
  },
  {
   "cell_type": "code",
   "execution_count": 14,
   "id": "9c5b4495-edba-4105-89c4-a431b7cb8dff",
   "metadata": {},
   "outputs": [],
   "source": [
    "import torch\n",
    "import pickle\n",
    "import numpy as np\n",
    "import torch.nn as nn\n",
    "from propose import PROPOSE, ExpressionDataset"
   ]
  },
  {
   "cell_type": "code",
   "execution_count": 15,
   "id": "7dae6048-608b-4bcb-9f90-90e9e3b4fc1c",
   "metadata": {},
   "outputs": [],
   "source": [
    "# Make cell types numerical\n",
    "cell_types = pd.Categorical(cell_types_98).codes\n",
    "\n",
    "# Set up datasets\n",
    "train_dataset = ExpressionDataset(binary[train_inds], cell_types[train_inds])\n",
    "val_dataset = ExpressionDataset(binary[val_inds], cell_types[val_inds])"
   ]
  },
  {
   "cell_type": "code",
   "execution_count": 16,
   "id": "a29bae6e-b894-4fa2-99e1-ede29543bd04",
   "metadata": {},
   "outputs": [],
   "source": [
    "# Set up GPU device\n",
    "device = torch.device('cuda', 5)"
   ]
  },
  {
   "cell_type": "code",
   "execution_count": 17,
   "id": "d7f225da-900b-4f0c-afcd-a7583f951fdd",
   "metadata": {},
   "outputs": [],
   "source": [
    "# Number of genes to select\n",
    "num_genes = (32, 64, 128)\n",
    "propose_class_results = {}"
   ]
  },
  {
   "cell_type": "code",
   "execution_count": 18,
   "id": "cd4b53b8-e274-486c-98e4-e0af7114ec3b",
   "metadata": {},
   "outputs": [
    {
     "name": "stdout",
     "output_type": "stream",
     "text": [
      "using CrossEntropyLoss, starting with lam = 0.0001\n"
     ]
    },
    {
     "data": {
      "application/vnd.jupyter.widget-view+json": {
       "model_id": "4190ebad58074c6c86a291db4bce2d7a",
       "version_major": 2,
       "version_minor": 0
      },
      "text/plain": [
       "Training epochs:   0%|          | 0/600 [00:00<?, ?it/s]"
      ]
     },
     "metadata": {},
     "output_type": "display_data"
    },
    {
     "name": "stdout",
     "output_type": "stream",
     "text": [
      "lam = 0.000100 yielded 606 genes\n",
      "Warm starting model for next iteration\n",
      "next attempt is lam = 0.000123\n"
     ]
    },
    {
     "data": {
      "application/vnd.jupyter.widget-view+json": {
       "model_id": "dfe48af593e94d75a3893625e8e8c7e5",
       "version_major": 2,
       "version_minor": 0
      },
      "text/plain": [
       "Training epochs:   0%|          | 0/600 [00:00<?, ?it/s]"
      ]
     },
     "metadata": {},
     "output_type": "display_data"
    },
    {
     "name": "stdout",
     "output_type": "stream",
     "text": [
      "lam = 0.000123 yielded 341 genes\n",
      "Reinitializing model for next iteration\n",
      "next attempt is lam = 0.000090\n"
     ]
    },
    {
     "data": {
      "application/vnd.jupyter.widget-view+json": {
       "model_id": "a6206b23951449ccadfffce96eb4ab1f",
       "version_major": 2,
       "version_minor": 0
      },
      "text/plain": [
       "Training epochs:   0%|          | 0/600 [00:00<?, ?it/s]"
      ]
     },
     "metadata": {},
     "output_type": "display_data"
    },
    {
     "name": "stdout",
     "output_type": "stream",
     "text": [
      "lam = 0.000090 yielded 677 genes\n",
      "Warm starting model for next iteration\n",
      "next attempt is lam = 0.000113\n"
     ]
    },
    {
     "data": {
      "application/vnd.jupyter.widget-view+json": {
       "model_id": "48efc9b1a75342f69e356de992596bb1",
       "version_major": 2,
       "version_minor": 0
      },
      "text/plain": [
       "Training epochs:   0%|          | 0/600 [00:00<?, ?it/s]"
      ]
     },
     "metadata": {},
     "output_type": "display_data"
    },
    {
     "name": "stdout",
     "output_type": "stream",
     "text": [
      "lam = 0.000113 yielded 369 genes\n",
      "Reinitializing model for next iteration\n",
      "next attempt is lam = 0.000091\n"
     ]
    },
    {
     "data": {
      "application/vnd.jupyter.widget-view+json": {
       "model_id": "1f2ca8827139467090e9f094171b4a11",
       "version_major": 2,
       "version_minor": 0
      },
      "text/plain": [
       "Training epochs:   0%|          | 0/600 [00:00<?, ?it/s]"
      ]
     },
     "metadata": {},
     "output_type": "display_data"
    },
    {
     "name": "stdout",
     "output_type": "stream",
     "text": [
      "lam = 0.000091 yielded 690 genes\n",
      "Warm starting model for next iteration\n",
      "next attempt is lam = 0.000111\n"
     ]
    },
    {
     "data": {
      "application/vnd.jupyter.widget-view+json": {
       "model_id": "dc54b135d06c401ea253fc01e57b997d",
       "version_major": 2,
       "version_minor": 0
      },
      "text/plain": [
       "Training epochs:   0%|          | 0/600 [00:00<?, ?it/s]"
      ]
     },
     "metadata": {},
     "output_type": "display_data"
    },
    {
     "name": "stdout",
     "output_type": "stream",
     "text": [
      "lam = 0.000111 yielded 403 genes\n",
      "done, lam = 0.000111 yielded 403 genes\n"
     ]
    },
    {
     "data": {
      "application/vnd.jupyter.widget-view+json": {
       "model_id": "36a72111c7524b5ebca15e8c6be64cb1",
       "version_major": 2,
       "version_minor": 0
      },
      "text/plain": [
       "Training epochs:   0%|          | 0/600 [00:00<?, ?it/s]"
      ]
     },
     "metadata": {},
     "output_type": "display_data"
    },
    {
     "name": "stdout",
     "output_type": "stream",
     "text": [
      "done, selected 32 genes\n"
     ]
    },
    {
     "data": {
      "application/vnd.jupyter.widget-view+json": {
       "model_id": "6abc81f2d4484277b1827b184bdfd08e",
       "version_major": 2,
       "version_minor": 0
      },
      "text/plain": [
       "Training epochs:   0%|          | 0/600 [00:00<?, ?it/s]"
      ]
     },
     "metadata": {},
     "output_type": "display_data"
    },
    {
     "name": "stdout",
     "output_type": "stream",
     "text": [
      "done, selected 64 genes\n"
     ]
    },
    {
     "data": {
      "application/vnd.jupyter.widget-view+json": {
       "model_id": "9e4358db942d4f439bb625a2646a3835",
       "version_major": 2,
       "version_minor": 0
      },
      "text/plain": [
       "Training epochs:   0%|          | 0/600 [00:00<?, ?it/s]"
      ]
     },
     "metadata": {},
     "output_type": "display_data"
    },
    {
     "name": "stdout",
     "output_type": "stream",
     "text": [
      "done, selected 128 genes\n"
     ]
    }
   ],
   "source": [
    "# Set up selector\n",
    "selector = PROPOSE(train_dataset,\n",
    "                   val_dataset,\n",
    "                   loss_fn=torch.nn.CrossEntropyLoss(),\n",
    "                   device=device,\n",
    "                   hidden=[128, 128])\n",
    "\n",
    "# Eliminate many candidates\n",
    "candidates, model = selector.eliminate(target=500, mbsize=128, max_nepochs=600)\n",
    "\n",
    "for num in num_genes:\n",
    "    # Select specific number of genes\n",
    "    inds, model = selector.select(num_genes=num, mbsize=128, max_nepochs=600)\n",
    "    propose_class_results[num] = inds"
   ]
  },
  {
   "cell_type": "code",
   "execution_count": 19,
   "id": "178750a0-da81-4d2d-b745-18984b43ce08",
   "metadata": {},
   "outputs": [],
   "source": [
    "# Save results\n",
    "with open('propose_class_results.pkl', 'wb') as f:\n",
    "    pickle.dump(propose_class_results, f)"
   ]
  },
  {
   "cell_type": "markdown",
   "id": "440ba77a-6320-451d-bb19-8ecaebf6f01a",
   "metadata": {},
   "source": [
    "# Run Seurat"
   ]
  },
  {
   "cell_type": "code",
   "execution_count": 20,
   "id": "dd6fa316-b788-4e40-a4d5-32adcae78244",
   "metadata": {},
   "outputs": [
    {
     "name": "stdout",
     "output_type": "stream",
     "text": [
      "Requirement already satisfied: scanpy in /homes/gws/icovert/anaconda3/envs/numbaenv/lib/python3.6/site-packages (1.7.2)\n",
      "Requirement already satisfied: anndata in /homes/gws/icovert/anaconda3/envs/numbaenv/lib/python3.6/site-packages (0.7.8)\n",
      "Requirement already satisfied: pandas>=1.1.1 in /homes/gws/icovert/anaconda3/envs/numbaenv/lib/python3.6/site-packages (from anndata) (1.1.5)\n",
      "Requirement already satisfied: xlrd<2.0 in /homes/gws/icovert/anaconda3/envs/numbaenv/lib/python3.6/site-packages (from anndata) (1.2.0)\n",
      "Requirement already satisfied: scipy>1.4 in /homes/gws/icovert/anaconda3/envs/numbaenv/lib/python3.6/site-packages (from anndata) (1.5.4)\n",
      "Requirement already satisfied: packaging>=20 in /homes/gws/icovert/anaconda3/envs/numbaenv/lib/python3.6/site-packages (from anndata) (20.9)\n",
      "Requirement already satisfied: natsort in /homes/gws/icovert/anaconda3/envs/numbaenv/lib/python3.6/site-packages (from anndata) (7.1.1)\n",
      "Requirement already satisfied: h5py in /homes/gws/icovert/anaconda3/envs/numbaenv/lib/python3.6/site-packages (from anndata) (3.1.0)\n",
      "Requirement already satisfied: numpy>=1.16.5 in /homes/gws/icovert/anaconda3/envs/numbaenv/lib/python3.6/site-packages (from anndata) (1.19.2)\n",
      "Requirement already satisfied: importlib_metadata>=0.7 in /homes/gws/icovert/anaconda3/envs/numbaenv/lib/python3.6/site-packages (from anndata) (2.0.0)\n",
      "Requirement already satisfied: zipp>=0.5 in /homes/gws/icovert/anaconda3/envs/numbaenv/lib/python3.6/site-packages (from importlib_metadata>=0.7->anndata) (3.4.0)\n",
      "Requirement already satisfied: pyparsing>=2.0.2 in /homes/gws/icovert/anaconda3/envs/numbaenv/lib/python3.6/site-packages (from packaging>=20->anndata) (2.4.7)\n",
      "Requirement already satisfied: pytz>=2017.2 in /homes/gws/icovert/anaconda3/envs/numbaenv/lib/python3.6/site-packages (from pandas>=1.1.1->anndata) (2021.1)\n",
      "Requirement already satisfied: python-dateutil>=2.7.3 in /homes/gws/icovert/anaconda3/envs/numbaenv/lib/python3.6/site-packages (from pandas>=1.1.1->anndata) (2.8.1)\n",
      "Requirement already satisfied: six>=1.5 in /homes/gws/icovert/anaconda3/envs/numbaenv/lib/python3.6/site-packages (from python-dateutil>=2.7.3->pandas>=1.1.1->anndata) (1.15.0)\n",
      "Requirement already satisfied: statsmodels>=0.10.0rc2 in /homes/gws/icovert/anaconda3/envs/numbaenv/lib/python3.6/site-packages (from scanpy) (0.12.2)\n",
      "Requirement already satisfied: umap-learn>=0.3.10 in /homes/gws/icovert/anaconda3/envs/numbaenv/lib/python3.6/site-packages (from scanpy) (0.5.1)\n",
      "Requirement already satisfied: joblib in /homes/gws/icovert/anaconda3/envs/numbaenv/lib/python3.6/site-packages (from scanpy) (1.0.1)\n",
      "Requirement already satisfied: matplotlib>=3.1.2 in /homes/gws/icovert/anaconda3/envs/numbaenv/lib/python3.6/site-packages (from scanpy) (3.3.4)\n",
      "Requirement already satisfied: tables in /homes/gws/icovert/anaconda3/envs/numbaenv/lib/python3.6/site-packages (from scanpy) (3.6.1)\n",
      "Requirement already satisfied: tqdm in /homes/gws/icovert/anaconda3/envs/numbaenv/lib/python3.6/site-packages (from scanpy) (4.59.0)\n",
      "Requirement already satisfied: legacy-api-wrap in /homes/gws/icovert/anaconda3/envs/numbaenv/lib/python3.6/site-packages (from scanpy) (1.2)\n",
      "Requirement already satisfied: seaborn in /homes/gws/icovert/anaconda3/envs/numbaenv/lib/python3.6/site-packages (from scanpy) (0.11.2)\n",
      "Requirement already satisfied: sinfo in /homes/gws/icovert/anaconda3/envs/numbaenv/lib/python3.6/site-packages (from scanpy) (0.3.4)\n",
      "Requirement already satisfied: scikit-learn>=0.21.2 in /homes/gws/icovert/anaconda3/envs/numbaenv/lib/python3.6/site-packages (from scanpy) (0.24.2)\n",
      "Requirement already satisfied: patsy in /homes/gws/icovert/anaconda3/envs/numbaenv/lib/python3.6/site-packages (from scanpy) (0.5.1)\n",
      "Requirement already satisfied: networkx>=2.3 in /homes/gws/icovert/anaconda3/envs/numbaenv/lib/python3.6/site-packages (from scanpy) (2.5.1)\n",
      "Requirement already satisfied: numba>=0.41.0 in /homes/gws/icovert/anaconda3/envs/numbaenv/lib/python3.6/site-packages (from scanpy) (0.52.0)\n",
      "Requirement already satisfied: cached-property in /homes/gws/icovert/anaconda3/envs/numbaenv/lib/python3.6/site-packages (from h5py->anndata) (1.5.2)\n",
      "Requirement already satisfied: kiwisolver>=1.0.1 in /homes/gws/icovert/anaconda3/envs/numbaenv/lib/python3.6/site-packages (from matplotlib>=3.1.2->scanpy) (1.3.1)\n",
      "Requirement already satisfied: cycler>=0.10 in /homes/gws/icovert/anaconda3/envs/numbaenv/lib/python3.6/site-packages (from matplotlib>=3.1.2->scanpy) (0.10.0)\n",
      "Requirement already satisfied: pillow>=6.2.0 in /homes/gws/icovert/anaconda3/envs/numbaenv/lib/python3.6/site-packages (from matplotlib>=3.1.2->scanpy) (8.1.2)\n",
      "Requirement already satisfied: decorator<5,>=4.3 in /homes/gws/icovert/anaconda3/envs/numbaenv/lib/python3.6/site-packages (from networkx>=2.3->scanpy) (4.4.2)\n",
      "Requirement already satisfied: llvmlite<0.36,>=0.35.0 in /homes/gws/icovert/anaconda3/envs/numbaenv/lib/python3.6/site-packages (from numba>=0.41.0->scanpy) (0.35.0)\n",
      "Requirement already satisfied: setuptools in /homes/gws/icovert/anaconda3/envs/numbaenv/lib/python3.6/site-packages (from numba>=0.41.0->scanpy) (52.0.0.post20210125)\n",
      "Requirement already satisfied: threadpoolctl>=2.0.0 in /homes/gws/icovert/anaconda3/envs/numbaenv/lib/python3.6/site-packages (from scikit-learn>=0.21.2->scanpy) (2.1.0)\n",
      "Requirement already satisfied: pynndescent>=0.5 in /homes/gws/icovert/anaconda3/envs/numbaenv/lib/python3.6/site-packages (from umap-learn>=0.3.10->scanpy) (0.5.4)\n",
      "Requirement already satisfied: get-version>=2.0.4 in /homes/gws/icovert/anaconda3/envs/numbaenv/lib/python3.6/site-packages (from legacy-api-wrap->scanpy) (2.1)\n",
      "Requirement already satisfied: stdlib-list in /homes/gws/icovert/anaconda3/envs/numbaenv/lib/python3.6/site-packages (from sinfo->scanpy) (0.8.0)\n",
      "Requirement already satisfied: numexpr>=2.6.2 in /homes/gws/icovert/anaconda3/envs/numbaenv/lib/python3.6/site-packages (from tables->scanpy) (2.7.3)\n"
     ]
    }
   ],
   "source": [
    "# Install scanpy package\n",
    "!pip install --upgrade scanpy anndata"
   ]
  },
  {
   "cell_type": "code",
   "execution_count": 21,
   "id": "f601a25e-8b7d-4b7b-ad12-ef9262a801bb",
   "metadata": {},
   "outputs": [],
   "source": [
    "import pickle\n",
    "import scanpy\n",
    "from anndata import AnnData"
   ]
  },
  {
   "cell_type": "code",
   "execution_count": 22,
   "id": "92864838-43bf-4cc3-b957-d189a332f5fc",
   "metadata": {},
   "outputs": [],
   "source": [
    "def seurat(x, num):\n",
    "    ann = AnnData(X=x)\n",
    "    annotations = scanpy.pp.highly_variable_genes(ann, n_top_genes=num, flavor='seurat_v3', inplace=False)\n",
    "    inds = np.where(~np.isnan(annotations['highly_variable_rank'].values))[0]\n",
    "    return np.sort(inds)"
   ]
  },
  {
   "cell_type": "code",
   "execution_count": 23,
   "id": "ec7ebae5-b306-42c2-88f4-33b79378cabe",
   "metadata": {},
   "outputs": [],
   "source": [
    "# Get panels of different sizes\n",
    "num_genes = (32, 64, 128)\n",
    "seurat_results = {num: seurat(raw[train_inds], num) for num in num_genes}"
   ]
  },
  {
   "cell_type": "code",
   "execution_count": 24,
   "id": "038a0d90-a91b-48d7-b7df-eb5fb6ae6a27",
   "metadata": {},
   "outputs": [],
   "source": [
    "with open('seurat_results.pkl', 'wb') as f:\n",
    "    pickle.dump(seurat_results, f)"
   ]
  },
  {
   "cell_type": "markdown",
   "id": "6ab8d275-cfb5-4553-9308-bc922c88a87e",
   "metadata": {},
   "source": [
    "# Expression profile reconstruction metric"
   ]
  },
  {
   "cell_type": "code",
   "execution_count": 25,
   "id": "945941d5-d20a-4b89-bbca-e4e914d74351",
   "metadata": {},
   "outputs": [],
   "source": [
    "import torch\n",
    "import pickle\n",
    "import matplotlib.pyplot as plt\n",
    "from propose import models, MSELoss, ExpressionDataset\n",
    "from torch.utils.data import DataLoader"
   ]
  },
  {
   "cell_type": "code",
   "execution_count": 26,
   "id": "e173db54-3367-4c3c-8f6a-328b6e25fcab",
   "metadata": {},
   "outputs": [],
   "source": [
    "# Set up datasets\n",
    "train_dataset = ExpressionDataset(binary[train_inds], logcpm[train_inds])\n",
    "val_dataset = ExpressionDataset(binary[val_inds], logcpm[val_inds])\n",
    "test_dataset = ExpressionDataset(binary[test_inds], logcpm[test_inds])"
   ]
  },
  {
   "cell_type": "code",
   "execution_count": 27,
   "id": "0f859ede-f1f3-46bb-906b-83b9b61db43d",
   "metadata": {},
   "outputs": [],
   "source": [
    "# Set up GPU device\n",
    "device = torch.device('cuda', 0)"
   ]
  },
  {
   "cell_type": "code",
   "execution_count": 28,
   "id": "34ae1a9c-0d27-417a-8f96-650916306c2b",
   "metadata": {},
   "outputs": [],
   "source": [
    "# Prepare gene sets\n",
    "with open('propose_results.pkl', 'rb') as f:\n",
    "    propose_results = pickle.load(f)\n",
    "with open('propose_class_results.pkl', 'rb') as f:\n",
    "    propose_class_results = pickle.load(f)\n",
    "with open('seurat_results.pkl', 'rb') as f:\n",
    "    seurat_results = pickle.load(f)\n",
    "num_genes = list(propose_results.keys())\n",
    "\n",
    "# Dictionary of methods\n",
    "methods = {\n",
    "    'PROPOSE': propose_results,\n",
    "    'PROPOSE-Class': propose_class_results,\n",
    "    'Seurat': seurat_results\n",
    "}\n",
    "\n",
    "# Dictionary of results\n",
    "results = {name: {} for name in methods}"
   ]
  },
  {
   "cell_type": "code",
   "execution_count": 29,
   "id": "e317e6e7-aede-4858-8e71-f1ccc459977f",
   "metadata": {},
   "outputs": [],
   "source": [
    "# Fit models\n",
    "for name in methods:\n",
    "    for num in num_genes:\n",
    "        # Get inds\n",
    "        inds = methods[name][num]\n",
    "        \n",
    "        # Set up datasets\n",
    "        train_dataset.set_inds(inds)\n",
    "        val_dataset.set_inds(inds)\n",
    "        test_dataset.set_inds(inds)\n",
    "        \n",
    "        # Train model\n",
    "        model = models.MLP(\n",
    "            input_size=num,\n",
    "            output_size=train_dataset.output_size,\n",
    "            hidden=[128, 128]).to(device)\n",
    "        model.fit(\n",
    "            train_dataset,\n",
    "            val_dataset,\n",
    "            mbsize=512,\n",
    "            max_nepochs=500,\n",
    "            loss_fn=MSELoss(),\n",
    "            verbose=False)\n",
    "\n",
    "        # Validation performance\n",
    "        test_mse = model.validate(DataLoader(test_dataset, batch_size=1024), MSELoss()).item()\n",
    "        results[name][num] = test_mse"
   ]
  },
  {
   "cell_type": "code",
   "execution_count": 30,
   "id": "606e8bdd-7d22-4c73-847e-531d03b7c180",
   "metadata": {},
   "outputs": [],
   "source": [
    "# Save results\n",
    "with open('reconstruction_metric.pkl', 'wb') as f:\n",
    "    pickle.dump(results, f)"
   ]
  },
  {
   "cell_type": "code",
   "execution_count": 31,
   "id": "b3c55c6b-e651-466a-ba21-474a366ff02f",
   "metadata": {},
   "outputs": [
    {
     "data": {
      "image/png": "[encoded data removed]",
      "text/plain": [
       "<Figure size 648x432 with 1 Axes>"
      ]
     },
     "metadata": {
      "needs_background": "light"
     },
     "output_type": "display_data"
    }
   ],
   "source": [
    "# Plot results\n",
    "with open('reconstruction_metric.pkl', 'rb') as f:\n",
    "    results = pickle.load(f)\n",
    "num_features = list(results['PROPOSE'].keys())\n",
    "\n",
    "# Get total variance\n",
    "total_variance = np.var(logcpm, axis=0).sum()\n",
    "\n",
    "# Make plot\n",
    "plt.figure(figsize=(9, 6))\n",
    "\n",
    "plt.plot(num_features, [1 - results['PROPOSE'][num] / total_variance for num in num_features],\n",
    "         marker='o', markersize=7, color='C0', label='PROPOSE')\n",
    "plt.plot(num_features, [1 - results['PROPOSE-Class'][num] / total_variance for num in num_features],\n",
    "         marker='o', markersize=7, color='C2', label='PROPOSE-Class')\n",
    "plt.plot(num_features, [1 - results['Seurat'][num] / total_variance for num in num_features],\n",
    "         marker='o', markersize=7, color='C1', label='Seurat')\n",
    "\n",
    "plt.legend(loc='lower right', fontsize=18, frameon=False)\n",
    "plt.tick_params(labelsize=14)\n",
    "plt.title('Genome-Wide Expression Profile Reconstruction', fontsize=18)\n",
    "plt.xlabel('# Genes', fontsize=16)\n",
    "plt.ylabel('Explained Variance', fontsize=16)\n",
    "\n",
    "plt.tight_layout()\n",
    "plt.show()"
   ]
  },
  {
   "cell_type": "markdown",
   "id": "2a26e882-fb79-46f5-906a-d3c7f117d08f",
   "metadata": {},
   "source": [
    "# Cell type classification metric"
   ]
  },
  {
   "cell_type": "code",
   "execution_count": 32,
   "id": "77787586-3ac2-422f-beda-0938036ac70b",
   "metadata": {},
   "outputs": [],
   "source": [
    "import torch\n",
    "import pickle\n",
    "import matplotlib.pyplot as plt\n",
    "from propose import models, Accuracy, ExpressionDataset\n",
    "from torch.utils.data import DataLoader"
   ]
  },
  {
   "cell_type": "code",
   "execution_count": 33,
   "id": "1aa68bbe-86ca-4e13-be24-efd6450e7b2f",
   "metadata": {},
   "outputs": [],
   "source": [
    "# Set up datasets\n",
    "train_dataset = ExpressionDataset(binary[train_inds], cell_types_98_num[train_inds])\n",
    "val_dataset = ExpressionDataset(binary[val_inds], cell_types_98_num[val_inds])\n",
    "test_dataset = ExpressionDataset(binary[test_inds], cell_types_98_num[test_inds])"
   ]
  },
  {
   "cell_type": "code",
   "execution_count": 34,
   "id": "8036cb3d-0bfa-46c7-9a78-73e0140c3d79",
   "metadata": {},
   "outputs": [],
   "source": [
    "# Prepare gene sets\n",
    "with open('propose_results.pkl', 'rb') as f:\n",
    "    propose_results = pickle.load(f)\n",
    "with open('propose_class_results.pkl', 'rb') as f:\n",
    "    propose_class_results = pickle.load(f)\n",
    "with open('seurat_results.pkl', 'rb') as f:\n",
    "    seurat_results = pickle.load(f)\n",
    "num_genes = list(propose_results.keys())\n",
    "\n",
    "# Dictionary of methods\n",
    "methods = {\n",
    "    'PROPOSE': propose_results,\n",
    "    'PROPOSE-Class': propose_class_results,\n",
    "    'Seurat': seurat_results\n",
    "}\n",
    "\n",
    "# Dictionary of results\n",
    "results = {name: {} for name in methods}"
   ]
  },
  {
   "cell_type": "code",
   "execution_count": 35,
   "id": "ccd101c6-4692-4502-8fd6-772784955111",
   "metadata": {},
   "outputs": [],
   "source": [
    "# Fit models\n",
    "for name in methods:\n",
    "    for num in num_genes:\n",
    "        # Get inds\n",
    "        inds = methods[name][num]\n",
    "        \n",
    "        # Set up datasets\n",
    "        train_dataset.set_inds(inds)\n",
    "        val_dataset.set_inds(inds)\n",
    "        test_dataset.set_inds(inds)\n",
    "        \n",
    "        # Train model\n",
    "        model = models.MLP(\n",
    "            input_size=num,\n",
    "            output_size=train_dataset.output_size,\n",
    "            hidden=[128, 128]).to(device)\n",
    "        model.fit(\n",
    "            train_dataset,\n",
    "            val_dataset,\n",
    "            mbsize=512,\n",
    "            max_nepochs=500,\n",
    "            loss_fn=torch.nn.CrossEntropyLoss(),\n",
    "            verbose=False)\n",
    "\n",
    "        # Validation performance\n",
    "        test_acc = model.validate(DataLoader(test_dataset, batch_size=1024), Accuracy()).item()\n",
    "        results[name][num] = test_acc"
   ]
  },
  {
   "cell_type": "code",
   "execution_count": 36,
   "id": "29c780c7-efac-4065-a6e0-f8d581dcf5e8",
   "metadata": {},
   "outputs": [],
   "source": [
    "# Save results\n",
    "with open('classification_metric.pkl', 'wb') as f:\n",
    "    pickle.dump(results, f)"
   ]
  },
  {
   "cell_type": "code",
   "execution_count": 37,
   "id": "3db896b0-5fc8-42a8-b768-5cf4ed572273",
   "metadata": {},
   "outputs": [
    {
     "data": {
      "image/png": "[encoded data removed]",
      "text/plain": [
       "<Figure size 648x432 with 1 Axes>"
      ]
     },
     "metadata": {
      "needs_background": "light"
     },
     "output_type": "display_data"
    }
   ],
   "source": [
    "# Plot results\n",
    "with open('classification_metric.pkl', 'rb') as f:\n",
    "    results = pickle.load(f)\n",
    "num_features = list(results['PROPOSE'].keys())\n",
    "\n",
    "# Make plot\n",
    "plt.figure(figsize=(9, 6))\n",
    "\n",
    "plt.plot(num_features, [results['PROPOSE'][num] for num in num_features],\n",
    "         marker='o', markersize=7, color='C0', label='PROPOSE')\n",
    "plt.plot(num_features, [results['PROPOSE-Class'][num] for num in num_features],\n",
    "         marker='o', markersize=7, color='C2', label='PROPOSE-Class')\n",
    "plt.plot(num_features, [results['Seurat'][num] for num in num_features],\n",
    "         marker='o', markersize=7, color='C1', label='Seurat')\n",
    "\n",
    "plt.legend(loc='lower right', fontsize=18, frameon=False)\n",
    "plt.tick_params(labelsize=14)\n",
    "plt.title('Cell Type Classification (98 Types)', fontsize=18)\n",
    "plt.xlabel('# Genes', fontsize=16)\n",
    "plt.ylabel('Accuracy', fontsize=16)\n",
    "\n",
    "plt.tight_layout()\n",
    "plt.show()"
   ]
  },
  {
   "cell_type": "markdown",
   "id": "999fdb1d-e825-47e2-943d-339bb92386e8",
   "metadata": {},
   "source": [
    "# Cell type classification with less granularity"
   ]
  },
  {
   "cell_type": "code",
   "execution_count": 38,
   "id": "350e5e41-8c43-45e3-b38c-26d060c9c065",
   "metadata": {},
   "outputs": [],
   "source": [
    "import torch\n",
    "import pickle\n",
    "import matplotlib.pyplot as plt\n",
    "from propose import models, Accuracy, ExpressionDataset\n",
    "from torch.utils.data import DataLoader"
   ]
  },
  {
   "cell_type": "code",
   "execution_count": 39,
   "id": "ffb3b291-1665-428e-8aab-0c3591d870df",
   "metadata": {},
   "outputs": [],
   "source": [
    "# Prepare gene sets\n",
    "with open('propose_class_results.pkl', 'rb') as f:\n",
    "    propose_class_results = pickle.load(f)\n",
    "num_genes = list(propose_class_results.keys())\n",
    "\n",
    "# Dictionary of granularities\n",
    "granularities = {\n",
    "    98: cell_types_98_num,\n",
    "    50: cell_types_50_num,\n",
    "    25: cell_types_25_num\n",
    "}\n",
    "\n",
    "# Dictionary of results\n",
    "results = {num_types: {} for num_types in granularities}"
   ]
  },
  {
   "cell_type": "code",
   "execution_count": 40,
   "id": "c1b99b4e-44eb-451d-8e6b-580ebac74912",
   "metadata": {},
   "outputs": [],
   "source": [
    "# Fit models\n",
    "for num_types in granularities:\n",
    "    # Set up datasets\n",
    "    train_dataset = ExpressionDataset(binary[train_inds], granularities[num_types][train_inds])\n",
    "    val_dataset = ExpressionDataset(binary[val_inds], granularities[num_types][val_inds])\n",
    "    test_dataset = ExpressionDataset(binary[test_inds], granularities[num_types][test_inds])\n",
    "    \n",
    "    for num in num_genes:\n",
    "        # Get inds\n",
    "        inds = methods[name][num]\n",
    "        \n",
    "        # Set up datasets\n",
    "        train_dataset.set_inds(inds)\n",
    "        val_dataset.set_inds(inds)\n",
    "        test_dataset.set_inds(inds)\n",
    "        \n",
    "        # Train model\n",
    "        model = models.MLP(\n",
    "            input_size=num,\n",
    "            output_size=train_dataset.output_size,\n",
    "            hidden=[128, 128]).to(device)\n",
    "        model.fit(\n",
    "            train_dataset,\n",
    "            val_dataset,\n",
    "            mbsize=512,\n",
    "            max_nepochs=500,\n",
    "            loss_fn=torch.nn.CrossEntropyLoss(),\n",
    "            verbose=False)\n",
    "\n",
    "        # Validation performance\n",
    "        test_acc = model.validate(DataLoader(test_dataset, batch_size=1024), Accuracy()).item()\n",
    "        results[num_types][num] = test_acc"
   ]
  },
  {
   "cell_type": "code",
   "execution_count": 41,
   "id": "ef116838-394c-4dd4-870e-dac2f7d13a3e",
   "metadata": {},
   "outputs": [],
   "source": [
    "# Save results\n",
    "with open('classification_granularity_metric.pkl', 'wb') as f:\n",
    "    pickle.dump(results, f)"
   ]
  },
  {
   "cell_type": "code",
   "execution_count": 42,
   "id": "0e0d3ad9-5461-4f82-9ce9-b25f8f6a3de0",
   "metadata": {},
   "outputs": [
    {
     "data": {
      "image/png": "[encoded data removed]",
      "text/plain": [
       "<Figure size 648x432 with 1 Axes>"
      ]
     },
     "metadata": {
      "needs_background": "light"
     },
     "output_type": "display_data"
    }
   ],
   "source": [
    "# Plot results\n",
    "with open('classification_granularity_metric.pkl', 'rb') as f:\n",
    "    results = pickle.load(f)\n",
    "num_features = list(results[98].keys())\n",
    "\n",
    "# Make plot\n",
    "plt.figure(figsize=(9, 6))\n",
    "\n",
    "plt.plot(num_features, [results[98][num] for num in num_features],\n",
    "         marker='o', markersize=7, color='C2', label='98 Types')\n",
    "plt.plot(num_features, [results[50][num] for num in num_features],\n",
    "         marker='o', markersize=7, color='C3', label='50 Types')\n",
    "plt.plot(num_features, [results[25][num] for num in num_features],\n",
    "         marker='o', markersize=7, color='C4', label='25 Types')\n",
    "\n",
    "plt.legend(loc='lower right', fontsize=18, frameon=False)\n",
    "plt.tick_params(labelsize=14)\n",
    "plt.title('PROPOSE-Class Cell Type Classification (Less Granularity)', fontsize=18)\n",
    "plt.xlabel('# Genes', fontsize=16)\n",
    "plt.ylabel('Accuracy', fontsize=16)\n",
    "\n",
    "plt.tight_layout()\n",
    "plt.show()"
   ]
  },
  {
   "cell_type": "code",
   "execution_count": null,
   "id": "1c02c829-f7d9-4cb5-81f0-6a686f822b8c",
   "metadata": {},
   "outputs": [],
   "source": []
  }
 ],
 "metadata": {
  "kernelspec": {
   "display_name": "Python 3",
   "language": "python",
   "name": "python3"
  },
  "language_info": {
   "codemirror_mode": {
    "name": "ipython",
    "version": 3
   },
   "file_extension": ".py",
   "mimetype": "text/x-python",
   "name": "python",
   "nbconvert_exporter": "python",
   "pygments_lexer": "ipython3",
   "version": "3.6.13"
  }
 },
 "nbformat": 4,
 "nbformat_minor": 5
}
